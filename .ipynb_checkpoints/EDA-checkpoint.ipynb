{
 "cells": [
  {
   "cell_type": "markdown",
   "metadata": {},
   "source": [
    "We start off by importing pandas and matplotlib to create dataframes and visualizations with."
   ]
  },
  {
   "cell_type": "code",
   "execution_count": 1,
   "metadata": {},
   "outputs": [],
   "source": [
    "import pandas as pd\n",
    "import matplotlib.pyplot as plt\n",
    "import seaborn as sns\n",
    "from numpy import log as ln\n",
    "import warnings\n",
    "warnings.filterwarnings(\"ignore\")"
   ]
  },
  {
   "cell_type": "markdown",
   "metadata": {},
   "source": [
    "We then take a look at all of the data we will be using in this project."
   ]
  },
  {
   "cell_type": "code",
   "execution_count": 2,
   "metadata": {},
   "outputs": [
    {
     "name": "stdout",
     "output_type": "stream",
     "text": [
      "Actions_Taken_During_Stop.csv\n",
      "Perceived_Race.csv\n",
      "Reason_for_Stop.csv\n",
      "Result_of_Stop.csv\n",
      "Stop_Date_Time_Location_Other.csv\n"
     ]
    }
   ],
   "source": [
    "from os import listdir\n",
    "for f in listdir(\"Data\"):\n",
    "    print(f)"
   ]
  },
  {
   "cell_type": "markdown",
   "metadata": {},
   "source": [
    "Next we import the data into data frames for each of the part of the data. note that we are dropping the object ID from all of the data frames becuase it was the indexing used in the csv format which is no longer nessesary in pandas."
   ]
  },
  {
   "cell_type": "code",
   "execution_count": 3,
   "metadata": {},
   "outputs": [],
   "source": [
    "actions = pd.read_csv(\"Data/Actions_Taken_During_Stop.csv\").drop(\"ObjectId\", axis=1)\n",
    "race = pd.read_csv(\"Data/Perceived_Race.csv\").drop(\"ObjectId\", axis=1)\n",
    "reason = pd.read_csv(\"Data/Reason_for_Stop.csv\").drop(\"ObjectId\", axis=1)\n",
    "result = pd.read_csv(\"Data/Result_of_Stop.csv\").drop(\"ObjectId\", axis=1)\n",
    "time_location = pd.read_csv(\"Data/Stop_Date_Time_Location_Other.csv\").drop(\"ObjectId\", axis=1)"
   ]
  },
  {
   "cell_type": "markdown",
   "metadata": {},
   "source": [
    "Now we take a look at some of the details of the data and the first few entries of each dataframe."
   ]
  },
  {
   "cell_type": "code",
   "execution_count": 4,
   "metadata": {},
   "outputs": [
    {
     "data": {
      "text/html": [
       "<div>\n",
       "<style scoped>\n",
       "    .dataframe tbody tr th:only-of-type {\n",
       "        vertical-align: middle;\n",
       "    }\n",
       "\n",
       "    .dataframe tbody tr th {\n",
       "        vertical-align: top;\n",
       "    }\n",
       "\n",
       "    .dataframe thead th {\n",
       "        text-align: right;\n",
       "    }\n",
       "</style>\n",
       "<table border=\"1\" class=\"dataframe\">\n",
       "  <thead>\n",
       "    <tr style=\"text-align: right;\">\n",
       "      <th></th>\n",
       "      <th>StopID</th>\n",
       "      <th>stopDate</th>\n",
       "      <th>stopTime</th>\n",
       "      <th>stopDuration</th>\n",
       "      <th>stopInResponseToCFS</th>\n",
       "      <th>blockNumber</th>\n",
       "      <th>street</th>\n",
       "      <th>intersection</th>\n",
       "      <th>highwayExit</th>\n",
       "      <th>landMark</th>\n",
       "      <th>...</th>\n",
       "      <th>isSchool</th>\n",
       "      <th>schoolName</th>\n",
       "      <th>PID</th>\n",
       "      <th>isStudent</th>\n",
       "      <th>perceivedAge</th>\n",
       "      <th>perceivedGender</th>\n",
       "      <th>genderNonconforming</th>\n",
       "      <th>perceivedLgbt</th>\n",
       "      <th>perceivedLimitedEnglish</th>\n",
       "      <th>hour</th>\n",
       "    </tr>\n",
       "  </thead>\n",
       "  <tbody>\n",
       "    <tr>\n",
       "      <th>0</th>\n",
       "      <td>5875</td>\n",
       "      <td>2019-01-01</td>\n",
       "      <td>07:41:59</td>\n",
       "      <td>5</td>\n",
       "      <td>0</td>\n",
       "      <td>200.0</td>\n",
       "      <td>E First St</td>\n",
       "      <td>NaN</td>\n",
       "      <td>NaN</td>\n",
       "      <td>NaN</td>\n",
       "      <td>...</td>\n",
       "      <td>0</td>\n",
       "      <td>NaN</td>\n",
       "      <td>1</td>\n",
       "      <td>0</td>\n",
       "      <td>60</td>\n",
       "      <td>Male</td>\n",
       "      <td>0</td>\n",
       "      <td>No</td>\n",
       "      <td>0</td>\n",
       "      <td>7</td>\n",
       "    </tr>\n",
       "    <tr>\n",
       "      <th>1</th>\n",
       "      <td>5782</td>\n",
       "      <td>2019-01-01</td>\n",
       "      <td>00:04:59</td>\n",
       "      <td>5</td>\n",
       "      <td>1</td>\n",
       "      <td>5900.0</td>\n",
       "      <td>Long Beach Blvd</td>\n",
       "      <td>NaN</td>\n",
       "      <td>NaN</td>\n",
       "      <td>NaN</td>\n",
       "      <td>...</td>\n",
       "      <td>0</td>\n",
       "      <td>NaN</td>\n",
       "      <td>1</td>\n",
       "      <td>0</td>\n",
       "      <td>31</td>\n",
       "      <td>Female</td>\n",
       "      <td>0</td>\n",
       "      <td>No</td>\n",
       "      <td>0</td>\n",
       "      <td>0</td>\n",
       "    </tr>\n",
       "    <tr>\n",
       "      <th>2</th>\n",
       "      <td>5876</td>\n",
       "      <td>2019-01-01</td>\n",
       "      <td>18:17:00</td>\n",
       "      <td>4</td>\n",
       "      <td>0</td>\n",
       "      <td>6600.0</td>\n",
       "      <td>Butler Ave</td>\n",
       "      <td>NaN</td>\n",
       "      <td>NaN</td>\n",
       "      <td>NaN</td>\n",
       "      <td>...</td>\n",
       "      <td>0</td>\n",
       "      <td>NaN</td>\n",
       "      <td>1</td>\n",
       "      <td>0</td>\n",
       "      <td>30</td>\n",
       "      <td>Male</td>\n",
       "      <td>0</td>\n",
       "      <td>No</td>\n",
       "      <td>0</td>\n",
       "      <td>18</td>\n",
       "    </tr>\n",
       "    <tr>\n",
       "      <th>3</th>\n",
       "      <td>5877</td>\n",
       "      <td>2019-01-01</td>\n",
       "      <td>18:25:35</td>\n",
       "      <td>10</td>\n",
       "      <td>1</td>\n",
       "      <td>900.0</td>\n",
       "      <td>E anaheim</td>\n",
       "      <td>NaN</td>\n",
       "      <td>NaN</td>\n",
       "      <td>NaN</td>\n",
       "      <td>...</td>\n",
       "      <td>0</td>\n",
       "      <td>NaN</td>\n",
       "      <td>1</td>\n",
       "      <td>0</td>\n",
       "      <td>40</td>\n",
       "      <td>Male</td>\n",
       "      <td>0</td>\n",
       "      <td>No</td>\n",
       "      <td>0</td>\n",
       "      <td>18</td>\n",
       "    </tr>\n",
       "    <tr>\n",
       "      <th>4</th>\n",
       "      <td>5785</td>\n",
       "      <td>2019-01-01</td>\n",
       "      <td>01:04:00</td>\n",
       "      <td>16</td>\n",
       "      <td>0</td>\n",
       "      <td>4800.0</td>\n",
       "      <td>Vista street</td>\n",
       "      <td>NaN</td>\n",
       "      <td>NaN</td>\n",
       "      <td>NaN</td>\n",
       "      <td>...</td>\n",
       "      <td>0</td>\n",
       "      <td>NaN</td>\n",
       "      <td>1</td>\n",
       "      <td>0</td>\n",
       "      <td>40</td>\n",
       "      <td>Male</td>\n",
       "      <td>0</td>\n",
       "      <td>No</td>\n",
       "      <td>0</td>\n",
       "      <td>1</td>\n",
       "    </tr>\n",
       "    <tr>\n",
       "      <th>...</th>\n",
       "      <td>...</td>\n",
       "      <td>...</td>\n",
       "      <td>...</td>\n",
       "      <td>...</td>\n",
       "      <td>...</td>\n",
       "      <td>...</td>\n",
       "      <td>...</td>\n",
       "      <td>...</td>\n",
       "      <td>...</td>\n",
       "      <td>...</td>\n",
       "      <td>...</td>\n",
       "      <td>...</td>\n",
       "      <td>...</td>\n",
       "      <td>...</td>\n",
       "      <td>...</td>\n",
       "      <td>...</td>\n",
       "      <td>...</td>\n",
       "      <td>...</td>\n",
       "      <td>...</td>\n",
       "      <td>...</td>\n",
       "      <td>...</td>\n",
       "    </tr>\n",
       "    <tr>\n",
       "      <th>40518</th>\n",
       "      <td>57852</td>\n",
       "      <td>2019-12-31</td>\n",
       "      <td>10:04:52</td>\n",
       "      <td>10</td>\n",
       "      <td>0</td>\n",
       "      <td>2900.0</td>\n",
       "      <td>Easy Ave</td>\n",
       "      <td>NaN</td>\n",
       "      <td>NaN</td>\n",
       "      <td>NaN</td>\n",
       "      <td>...</td>\n",
       "      <td>0</td>\n",
       "      <td>NaN</td>\n",
       "      <td>1</td>\n",
       "      <td>0</td>\n",
       "      <td>65</td>\n",
       "      <td>Male</td>\n",
       "      <td>0</td>\n",
       "      <td>No</td>\n",
       "      <td>0</td>\n",
       "      <td>10</td>\n",
       "    </tr>\n",
       "    <tr>\n",
       "      <th>40519</th>\n",
       "      <td>57853</td>\n",
       "      <td>2019-12-31</td>\n",
       "      <td>10:09:00</td>\n",
       "      <td>6</td>\n",
       "      <td>0</td>\n",
       "      <td>1400.0</td>\n",
       "      <td>W Spring St</td>\n",
       "      <td>NaN</td>\n",
       "      <td>NaN</td>\n",
       "      <td>NaN</td>\n",
       "      <td>...</td>\n",
       "      <td>0</td>\n",
       "      <td>NaN</td>\n",
       "      <td>1</td>\n",
       "      <td>0</td>\n",
       "      <td>40</td>\n",
       "      <td>Male</td>\n",
       "      <td>0</td>\n",
       "      <td>No</td>\n",
       "      <td>0</td>\n",
       "      <td>10</td>\n",
       "    </tr>\n",
       "    <tr>\n",
       "      <th>40520</th>\n",
       "      <td>57854</td>\n",
       "      <td>2019-12-31</td>\n",
       "      <td>10:29:15</td>\n",
       "      <td>10</td>\n",
       "      <td>0</td>\n",
       "      <td>5300.0</td>\n",
       "      <td>E 7th St</td>\n",
       "      <td>NaN</td>\n",
       "      <td>NaN</td>\n",
       "      <td>NaN</td>\n",
       "      <td>...</td>\n",
       "      <td>0</td>\n",
       "      <td>NaN</td>\n",
       "      <td>1</td>\n",
       "      <td>0</td>\n",
       "      <td>40</td>\n",
       "      <td>Female</td>\n",
       "      <td>0</td>\n",
       "      <td>No</td>\n",
       "      <td>0</td>\n",
       "      <td>10</td>\n",
       "    </tr>\n",
       "    <tr>\n",
       "      <th>40521</th>\n",
       "      <td>57855</td>\n",
       "      <td>2019-12-31</td>\n",
       "      <td>09:59:59</td>\n",
       "      <td>10</td>\n",
       "      <td>0</td>\n",
       "      <td>2500.0</td>\n",
       "      <td>Atlantic</td>\n",
       "      <td>NaN</td>\n",
       "      <td>NaN</td>\n",
       "      <td>NaN</td>\n",
       "      <td>...</td>\n",
       "      <td>0</td>\n",
       "      <td>NaN</td>\n",
       "      <td>1</td>\n",
       "      <td>0</td>\n",
       "      <td>40</td>\n",
       "      <td>Male</td>\n",
       "      <td>0</td>\n",
       "      <td>No</td>\n",
       "      <td>0</td>\n",
       "      <td>9</td>\n",
       "    </tr>\n",
       "    <tr>\n",
       "      <th>40522</th>\n",
       "      <td>57856</td>\n",
       "      <td>2019-12-31</td>\n",
       "      <td>10:21:59</td>\n",
       "      <td>15</td>\n",
       "      <td>0</td>\n",
       "      <td>1400.0</td>\n",
       "      <td>W Spring St</td>\n",
       "      <td>NaN</td>\n",
       "      <td>NaN</td>\n",
       "      <td>NaN</td>\n",
       "      <td>...</td>\n",
       "      <td>0</td>\n",
       "      <td>NaN</td>\n",
       "      <td>1</td>\n",
       "      <td>0</td>\n",
       "      <td>50</td>\n",
       "      <td>Male</td>\n",
       "      <td>0</td>\n",
       "      <td>No</td>\n",
       "      <td>0</td>\n",
       "      <td>10</td>\n",
       "    </tr>\n",
       "  </tbody>\n",
       "</table>\n",
       "<p>40523 rows × 21 columns</p>\n",
       "</div>"
      ],
      "text/plain": [
       "       StopID    stopDate  stopTime  stopDuration  stopInResponseToCFS  \\\n",
       "0        5875  2019-01-01  07:41:59             5                    0   \n",
       "1        5782  2019-01-01  00:04:59             5                    1   \n",
       "2        5876  2019-01-01  18:17:00             4                    0   \n",
       "3        5877  2019-01-01  18:25:35            10                    1   \n",
       "4        5785  2019-01-01  01:04:00            16                    0   \n",
       "...       ...         ...       ...           ...                  ...   \n",
       "40518   57852  2019-12-31  10:04:52            10                    0   \n",
       "40519   57853  2019-12-31  10:09:00             6                    0   \n",
       "40520   57854  2019-12-31  10:29:15            10                    0   \n",
       "40521   57855  2019-12-31  09:59:59            10                    0   \n",
       "40522   57856  2019-12-31  10:21:59            15                    0   \n",
       "\n",
       "       blockNumber           street intersection highwayExit landMark  ...  \\\n",
       "0            200.0       E First St          NaN         NaN      NaN  ...   \n",
       "1           5900.0  Long Beach Blvd          NaN         NaN      NaN  ...   \n",
       "2           6600.0       Butler Ave          NaN         NaN      NaN  ...   \n",
       "3            900.0        E anaheim          NaN         NaN      NaN  ...   \n",
       "4           4800.0     Vista street          NaN         NaN      NaN  ...   \n",
       "...            ...              ...          ...         ...      ...  ...   \n",
       "40518       2900.0         Easy Ave          NaN         NaN      NaN  ...   \n",
       "40519       1400.0      W Spring St          NaN         NaN      NaN  ...   \n",
       "40520       5300.0         E 7th St          NaN         NaN      NaN  ...   \n",
       "40521       2500.0         Atlantic          NaN         NaN      NaN  ...   \n",
       "40522       1400.0      W Spring St          NaN         NaN      NaN  ...   \n",
       "\n",
       "      isSchool  schoolName PID  isStudent  perceivedAge  perceivedGender  \\\n",
       "0            0         NaN   1          0            60             Male   \n",
       "1            0         NaN   1          0            31           Female   \n",
       "2            0         NaN   1          0            30             Male   \n",
       "3            0         NaN   1          0            40             Male   \n",
       "4            0         NaN   1          0            40             Male   \n",
       "...        ...         ...  ..        ...           ...              ...   \n",
       "40518        0         NaN   1          0            65             Male   \n",
       "40519        0         NaN   1          0            40             Male   \n",
       "40520        0         NaN   1          0            40           Female   \n",
       "40521        0         NaN   1          0            40             Male   \n",
       "40522        0         NaN   1          0            50             Male   \n",
       "\n",
       "      genderNonconforming  perceivedLgbt perceivedLimitedEnglish  hour  \n",
       "0                       0             No                       0     7  \n",
       "1                       0             No                       0     0  \n",
       "2                       0             No                       0    18  \n",
       "3                       0             No                       0    18  \n",
       "4                       0             No                       0     1  \n",
       "...                   ...            ...                     ...   ...  \n",
       "40518                   0             No                       0    10  \n",
       "40519                   0             No                       0    10  \n",
       "40520                   0             No                       0    10  \n",
       "40521                   0             No                       0     9  \n",
       "40522                   0             No                       0    10  \n",
       "\n",
       "[40523 rows x 21 columns]"
      ]
     },
     "execution_count": 4,
     "metadata": {},
     "output_type": "execute_result"
    }
   ],
   "source": [
    "time_location[\"stopDate\"] = pd.to_datetime(time_location[\"stopDate\"]).dt.date\n",
    "time_location[\"hour\"] = pd.to_datetime(time_location[\"stopTime\"]).dt.hour\n",
    "time_location[\"stopTime\"] = pd.to_datetime(time_location[\"stopTime\"]).dt.time\n",
    "time_location"
   ]
  },
  {
   "cell_type": "code",
   "execution_count": 20,
   "metadata": {},
   "outputs": [
    {
     "data": {
      "text/plain": [
       "['StopID',\n",
       " 'stopDate',\n",
       " 'stopTime',\n",
       " 'stopDuration',\n",
       " 'stopInResponseToCFS',\n",
       " 'blockNumber',\n",
       " 'street',\n",
       " 'intersection',\n",
       " 'highwayExit',\n",
       " 'landMark',\n",
       " 'city',\n",
       " 'isSchool',\n",
       " 'schoolName',\n",
       " 'PID',\n",
       " 'isStudent',\n",
       " 'perceivedAge',\n",
       " 'perceivedGender',\n",
       " 'genderNonconforming',\n",
       " 'perceivedLgbt',\n",
       " 'perceivedLimitedEnglish',\n",
       " 'hour']"
      ]
     },
     "execution_count": 20,
     "metadata": {},
     "output_type": "execute_result"
    }
   ],
   "source": [
    "list(time_location.columns)"
   ]
  },
  {
   "cell_type": "code",
   "execution_count": 5,
   "metadata": {},
   "outputs": [
    {
     "data": {
      "text/plain": [
       "blockNumber  street       \n",
       "100.0        Pine Ave         133\n",
       "             W 1st St         120\n",
       "             Pine              68\n",
       "2000.0       Pacific Av        68\n",
       "7500.0       Spring st         65\n",
       "                             ... \n",
       "1500.0       Wardlow            1\n",
       "             Wesley dr          1\n",
       "             West wardlow       1\n",
       "             Willow Street      1\n",
       "0.0          100                1\n",
       "Length: 11583, dtype: int64"
      ]
     },
     "execution_count": 5,
     "metadata": {},
     "output_type": "execute_result"
    }
   ],
   "source": [
    "time_location.groupby([\"blockNumber\", \"street\"]).size().sort_values(ascending = False)"
   ]
  },
  {
   "cell_type": "code",
   "execution_count": 16,
   "metadata": {},
   "outputs": [
    {
     "data": {
      "image/png": "[encoded data removed]",
      "text/plain": [
       "<Figure size 720x504 with 1 Axes>"
      ]
     },
     "metadata": {
      "needs_background": "light"
     },
     "output_type": "display_data"
    }
   ],
   "source": [
    "plt.figure(figsize = (10, 7))\n",
    "time_location['hour'].value_counts().sort_index().plot.bar(color = \"green\")\n",
    "plt.xlabel(\"Hour\")\n",
    "plt.ylabel(\"Number of People Stopped\");"
   ]
  },
  {
   "cell_type": "code",
   "execution_count": 19,
   "metadata": {},
   "outputs": [
    {
     "data": {
      "text/plain": [
       "<matplotlib.axes._subplots.AxesSubplot at 0x1d0f05787f0>"
      ]
     },
     "execution_count": 19,
     "metadata": {},
     "output_type": "execute_result"
    },
    {
     "data": {
      "image/png": "[encoded data removed]",
      "text/plain": [
       "<Figure size 432x288 with 1 Axes>"
      ]
     },
     "metadata": {
      "needs_background": "light"
     },
     "output_type": "display_data"
    }
   ],
   "source": [
    "time_location[\"perceivedGender\"].value_counts().plot.bar()"
   ]
  },
  {
   "cell_type": "code",
   "execution_count": 23,
   "metadata": {},
   "outputs": [
    {
     "data": {
      "text/plain": [
       "StopID                     1.104735e+09\n",
       "stopDuration               6.762240e+05\n",
       "stopInResponseToCFS        5.328000e+03\n",
       "blockNumber                5.680370e+07\n",
       "isSchool                   3.500000e+01\n",
       "PID                        4.651400e+04\n",
       "isStudent                  2.900000e+01\n",
       "perceivedAge               1.413924e+06\n",
       "genderNonconforming        1.030000e+02\n",
       "perceivedLimitedEnglish    1.436000e+03\n",
       "hour                       5.134940e+05\n",
       "dtype: float64"
      ]
     },
     "execution_count": 23,
     "metadata": {},
     "output_type": "execute_result"
    }
   ],
   "source": [
    "time_location.sum(axis = 0, numeric_only = True)"
   ]
  },
  {
   "cell_type": "code",
   "execution_count": 7,
   "metadata": {},
   "outputs": [
    {
     "data": {
      "text/html": [
       "<div>\n",
       "<style scoped>\n",
       "    .dataframe tbody tr th:only-of-type {\n",
       "        vertical-align: middle;\n",
       "    }\n",
       "\n",
       "    .dataframe tbody tr th {\n",
       "        vertical-align: top;\n",
       "    }\n",
       "\n",
       "    .dataframe thead th {\n",
       "        text-align: right;\n",
       "    }\n",
       "</style>\n",
       "<table border=\"1\" class=\"dataframe\">\n",
       "  <thead>\n",
       "    <tr style=\"text-align: right;\">\n",
       "      <th></th>\n",
       "      <th>StopID</th>\n",
       "      <th>PID</th>\n",
       "      <th>perceivedRace</th>\n",
       "    </tr>\n",
       "  </thead>\n",
       "  <tbody>\n",
       "    <tr>\n",
       "      <th>0</th>\n",
       "      <td>5782</td>\n",
       "      <td>1</td>\n",
       "      <td>White</td>\n",
       "    </tr>\n",
       "    <tr>\n",
       "      <th>1</th>\n",
       "      <td>5785</td>\n",
       "      <td>1</td>\n",
       "      <td>White</td>\n",
       "    </tr>\n",
       "    <tr>\n",
       "      <th>2</th>\n",
       "      <td>5786</td>\n",
       "      <td>1</td>\n",
       "      <td>White</td>\n",
       "    </tr>\n",
       "    <tr>\n",
       "      <th>3</th>\n",
       "      <td>5787</td>\n",
       "      <td>1</td>\n",
       "      <td>Asian</td>\n",
       "    </tr>\n",
       "    <tr>\n",
       "      <th>4</th>\n",
       "      <td>5787</td>\n",
       "      <td>1</td>\n",
       "      <td>Black</td>\n",
       "    </tr>\n",
       "  </tbody>\n",
       "</table>\n",
       "</div>"
      ],
      "text/plain": [
       "   StopID  PID perceivedRace\n",
       "0    5782    1         White\n",
       "1    5785    1         White\n",
       "2    5786    1         White\n",
       "3    5787    1         Asian\n",
       "4    5787    1         Black"
      ]
     },
     "execution_count": 7,
     "metadata": {},
     "output_type": "execute_result"
    }
   ],
   "source": [
    "race.head()"
   ]
  },
  {
   "cell_type": "code",
   "execution_count": 8,
   "metadata": {},
   "outputs": [
    {
     "data": {
      "text/plain": [
       "Hispanic                         0.347418\n",
       "Black                            0.259212\n",
       "White                            0.228037\n",
       "Asian                            0.065468\n",
       "Middle Eastern or South Asian    0.037494\n",
       "Pacific Islander                 0.035332\n",
       "Native American                  0.027039\n",
       "Name: perceivedRace, dtype: float64"
      ]
     },
     "execution_count": 8,
     "metadata": {},
     "output_type": "execute_result"
    }
   ],
   "source": [
    "race[\"perceivedRace\"].value_counts()/len(race)"
   ]
  },
  {
   "cell_type": "code",
   "execution_count": 9,
   "metadata": {},
   "outputs": [
    {
     "data": {
      "text/html": [
       "<div>\n",
       "<style scoped>\n",
       "    .dataframe tbody tr th:only-of-type {\n",
       "        vertical-align: middle;\n",
       "    }\n",
       "\n",
       "    .dataframe tbody tr th {\n",
       "        vertical-align: top;\n",
       "    }\n",
       "\n",
       "    .dataframe thead th {\n",
       "        text-align: right;\n",
       "    }\n",
       "</style>\n",
       "<table border=\"1\" class=\"dataframe\">\n",
       "  <thead>\n",
       "    <tr style=\"text-align: right;\">\n",
       "      <th></th>\n",
       "      <th>StopID</th>\n",
       "      <th>PID</th>\n",
       "      <th>reasonForStop</th>\n",
       "      <th>reasonForStopDetail</th>\n",
       "      <th>reasonForStopcode</th>\n",
       "      <th>reasonForStopCodeText</th>\n",
       "    </tr>\n",
       "  </thead>\n",
       "  <tbody>\n",
       "    <tr>\n",
       "      <th>0</th>\n",
       "      <td>5782</td>\n",
       "      <td>1</td>\n",
       "      <td>Reasonable Suspicion</td>\n",
       "      <td>Other Reasonable Suspicion of a crime</td>\n",
       "      <td>38021</td>\n",
       "      <td>273(A) PC - ILLEGAL PAY FOR ADOPTION (M) 38021</td>\n",
       "    </tr>\n",
       "    <tr>\n",
       "      <th>1</th>\n",
       "      <td>5785</td>\n",
       "      <td>1</td>\n",
       "      <td>Reasonable Suspicion</td>\n",
       "      <td>Other Reasonable Suspicion of a crime</td>\n",
       "      <td>65002</td>\n",
       "      <td>65002 ZZ - LOCAL ORDINANCE VIOL (I) 65002</td>\n",
       "    </tr>\n",
       "    <tr>\n",
       "      <th>2</th>\n",
       "      <td>5786</td>\n",
       "      <td>1</td>\n",
       "      <td>Reasonable Suspicion</td>\n",
       "      <td>Other Reasonable Suspicion of a crime</td>\n",
       "      <td>32096</td>\n",
       "      <td>602(L)(1) PC - TRSPSS:PSTD LND:RFS TO LV (M) 3...</td>\n",
       "    </tr>\n",
       "    <tr>\n",
       "      <th>3</th>\n",
       "      <td>5787</td>\n",
       "      <td>1</td>\n",
       "      <td>Reasonable Suspicion</td>\n",
       "      <td>Other Reasonable Suspicion of a crime</td>\n",
       "      <td>38080</td>\n",
       "      <td>273.5(A) PC - CRPL INJ:SPOUS/COHAB/DATE (F) 38080</td>\n",
       "    </tr>\n",
       "    <tr>\n",
       "      <th>4</th>\n",
       "      <td>5788</td>\n",
       "      <td>1</td>\n",
       "      <td>Traffic Violation</td>\n",
       "      <td>Moving Violation</td>\n",
       "      <td>54098</td>\n",
       "      <td>21453(A) VC - FAIL STOP LINE/ETC AT RED (I) 54098</td>\n",
       "    </tr>\n",
       "  </tbody>\n",
       "</table>\n",
       "</div>"
      ],
      "text/plain": [
       "   StopID  PID         reasonForStop                    reasonForStopDetail  \\\n",
       "0    5782    1  Reasonable Suspicion  Other Reasonable Suspicion of a crime   \n",
       "1    5785    1  Reasonable Suspicion  Other Reasonable Suspicion of a crime   \n",
       "2    5786    1  Reasonable Suspicion  Other Reasonable Suspicion of a crime   \n",
       "3    5787    1  Reasonable Suspicion  Other Reasonable Suspicion of a crime   \n",
       "4    5788    1     Traffic Violation                       Moving Violation   \n",
       "\n",
       "   reasonForStopcode                              reasonForStopCodeText  \n",
       "0              38021     273(A) PC - ILLEGAL PAY FOR ADOPTION (M) 38021  \n",
       "1              65002          65002 ZZ - LOCAL ORDINANCE VIOL (I) 65002  \n",
       "2              32096  602(L)(1) PC - TRSPSS:PSTD LND:RFS TO LV (M) 3...  \n",
       "3              38080  273.5(A) PC - CRPL INJ:SPOUS/COHAB/DATE (F) 38080  \n",
       "4              54098  21453(A) VC - FAIL STOP LINE/ETC AT RED (I) 54098  "
      ]
     },
     "execution_count": 9,
     "metadata": {},
     "output_type": "execute_result"
    }
   ],
   "source": [
    "reason.head()"
   ]
  },
  {
   "cell_type": "code",
   "execution_count": 24,
   "metadata": {},
   "outputs": [
    {
     "data": {
      "text/plain": [
       "Traffic Violation                                                                                                    26340\n",
       "Reasonable Suspicion                                                                                                 13067\n",
       "Known to be on Parole / Probation / PRCS / Mandatory Supervision                                                       784\n",
       "Investigation to determine whether the person was truant                                                               638\n",
       "Knowledge of outstanding arrest warrant/wanted person                                                                  394\n",
       "Consensual Encounter resulting in a search                                                                             296\n",
       "Determine whether the student violated school policy                                                                     4\n",
       "Possible conduct warranting discipline under Education Code sections 48900, 48900.2, 48900.3, 48900.4 and 48900.7        3\n",
       "Name: reasonForStop, dtype: int64"
      ]
     },
     "execution_count": 24,
     "metadata": {},
     "output_type": "execute_result"
    }
   ],
   "source": [
    "reason[\"reasonForStop\"].value_counts()"
   ]
  },
  {
   "cell_type": "code",
   "execution_count": 34,
   "metadata": {
    "collapsed": true,
    "jupyter": {
     "outputs_hidden": true
    }
   },
   "outputs": [
    {
     "data": {
      "text/plain": [
       "30     109\n",
       "25     103\n",
       "40      68\n",
       "50      62\n",
       "35      60\n",
       "45      37\n",
       "20      36\n",
       "60      21\n",
       "18      18\n",
       "28      15\n",
       "15      14\n",
       "22      13\n",
       "55      12\n",
       "100     11\n",
       "16      10\n",
       "21       8\n",
       "17       6\n",
       "65       6\n",
       "32       6\n",
       "70       5\n",
       "38       5\n",
       "26       5\n",
       "23       4\n",
       "24       4\n",
       "14       4\n",
       "19       4\n",
       "27       4\n",
       "59       3\n",
       "37       3\n",
       "48       3\n",
       "13       2\n",
       "34       2\n",
       "29       2\n",
       "33       2\n",
       "39       2\n",
       "58       2\n",
       "64       2\n",
       "31       1\n",
       "75       1\n",
       "36       1\n",
       "42       1\n",
       "43       1\n",
       "44       1\n",
       "46       1\n",
       "49       1\n",
       "10       1\n",
       "Name: perceivedAge, dtype: int64"
      ]
     },
     "execution_count": 34,
     "metadata": {},
     "output_type": "execute_result"
    }
   ],
   "source": [
    "reasoning = \"Investigation to determine whether the person was truant\"\n",
    "stop_IDs = reason.loc[reason[\"reasonForStop\"] == reasoning, \"StopID\"].unique()\n",
    "time_location.loc[time_location[\"StopID\"].isin(stop_IDs), \"perceivedAge\"].value_counts()"
   ]
  },
  {
   "cell_type": "code",
   "execution_count": 37,
   "metadata": {},
   "outputs": [
    {
     "data": {
      "text/plain": [
       "Hispanic                         0.374838\n",
       "Black                            0.281453\n",
       "White                            0.229572\n",
       "Asian                            0.049287\n",
       "Pacific Islander                 0.027237\n",
       "Middle Eastern or South Asian    0.019455\n",
       "Native American                  0.018158\n",
       "Name: perceivedRace, dtype: float64"
      ]
     },
     "execution_count": 37,
     "metadata": {},
     "output_type": "execute_result"
    }
   ],
   "source": [
    "truant_race = race.loc[race[\"StopID\"].isin(stop_IDs), \"perceivedRace\"]\n",
    "truant_race.value_counts() / len(truant_race)"
   ]
  },
  {
   "cell_type": "code",
   "execution_count": 10,
   "metadata": {},
   "outputs": [
    {
     "data": {
      "text/html": [
       "<div>\n",
       "<style scoped>\n",
       "    .dataframe tbody tr th:only-of-type {\n",
       "        vertical-align: middle;\n",
       "    }\n",
       "\n",
       "    .dataframe tbody tr th {\n",
       "        vertical-align: top;\n",
       "    }\n",
       "\n",
       "    .dataframe thead th {\n",
       "        text-align: right;\n",
       "    }\n",
       "</style>\n",
       "<table border=\"1\" class=\"dataframe\">\n",
       "  <thead>\n",
       "    <tr style=\"text-align: right;\">\n",
       "      <th></th>\n",
       "      <th>StopID</th>\n",
       "      <th>PID</th>\n",
       "      <th>resultOfStop</th>\n",
       "      <th>resultOfStopcode</th>\n",
       "      <th>resultOfStopcodeText</th>\n",
       "    </tr>\n",
       "  </thead>\n",
       "  <tbody>\n",
       "    <tr>\n",
       "      <th>0</th>\n",
       "      <td>5782</td>\n",
       "      <td>1</td>\n",
       "      <td>Field interview card completed</td>\n",
       "      <td>NaN</td>\n",
       "      <td>NaN</td>\n",
       "    </tr>\n",
       "    <tr>\n",
       "      <th>1</th>\n",
       "      <td>5867</td>\n",
       "      <td>1</td>\n",
       "      <td>Citation for infraction</td>\n",
       "      <td>55103.0</td>\n",
       "      <td>374.4 PC - LITTER PUB/PRIVATE PROP (I) 55103</td>\n",
       "    </tr>\n",
       "    <tr>\n",
       "      <th>2</th>\n",
       "      <td>5908</td>\n",
       "      <td>1</td>\n",
       "      <td>Citation for infraction</td>\n",
       "      <td>54109.0</td>\n",
       "      <td>24252(A) VC - FAIL MAINT VEH LITE EQUIP (I) 54109</td>\n",
       "    </tr>\n",
       "    <tr>\n",
       "      <th>3</th>\n",
       "      <td>6033</td>\n",
       "      <td>1</td>\n",
       "      <td>Citation for infraction</td>\n",
       "      <td>54372.0</td>\n",
       "      <td>21453(B) VC - TURN ONTO ONEWAY AT RED (I) 54372</td>\n",
       "    </tr>\n",
       "    <tr>\n",
       "      <th>4</th>\n",
       "      <td>5785</td>\n",
       "      <td>1</td>\n",
       "      <td>Citation for infraction</td>\n",
       "      <td>65000.0</td>\n",
       "      <td>65000 ZZ - LOCAL ORDINANCE VIOL (M) 65000</td>\n",
       "    </tr>\n",
       "  </tbody>\n",
       "</table>\n",
       "</div>"
      ],
      "text/plain": [
       "   StopID  PID                    resultOfStop  resultOfStopcode  \\\n",
       "0    5782    1  Field interview card completed               NaN   \n",
       "1    5867    1         Citation for infraction           55103.0   \n",
       "2    5908    1         Citation for infraction           54109.0   \n",
       "3    6033    1         Citation for infraction           54372.0   \n",
       "4    5785    1         Citation for infraction           65000.0   \n",
       "\n",
       "                                resultOfStopcodeText  \n",
       "0                                                NaN  \n",
       "1       374.4 PC - LITTER PUB/PRIVATE PROP (I) 55103  \n",
       "2  24252(A) VC - FAIL MAINT VEH LITE EQUIP (I) 54109  \n",
       "3    21453(B) VC - TURN ONTO ONEWAY AT RED (I) 54372  \n",
       "4          65000 ZZ - LOCAL ORDINANCE VIOL (M) 65000  "
      ]
     },
     "execution_count": 10,
     "metadata": {},
     "output_type": "execute_result"
    }
   ],
   "source": [
    "result.head()"
   ]
  },
  {
   "cell_type": "code",
   "execution_count": 38,
   "metadata": {},
   "outputs": [
    {
     "data": {
      "text/plain": [
       "array(['Field interview card completed', 'Citation for infraction',\n",
       "       'Warning (verbal or written)', 'No Action',\n",
       "       'Custodial Arrest without warrant',\n",
       "       'Custodial Arrest pursuant to outstanding warrant',\n",
       "       'In-field cite and release',\n",
       "       'Noncriminal transport or caretaking transport',\n",
       "       'Psychiatric hold',\n",
       "       'Contacted parent/legal guardian or other person responsible for the minor',\n",
       "       'Referral to school counselor or other support staff',\n",
       "       'Referral to school administrator',\n",
       "       'Contacted U.S. Department of Homeland Security'], dtype=object)"
      ]
     },
     "execution_count": 38,
     "metadata": {},
     "output_type": "execute_result"
    }
   ],
   "source": [
    "result[\"resultOfStop\"].unique()"
   ]
  },
  {
   "cell_type": "code",
   "execution_count": 47,
   "metadata": {},
   "outputs": [
    {
     "name": "stdout",
     "output_type": "stream",
     "text": [
      "Total number of result:  1020\n"
     ]
    },
    {
     "data": {
      "text/plain": [
       "Hispanic                         0.349797\n",
       "Black                            0.333559\n",
       "White                            0.194858\n",
       "Pacific Islander                 0.041949\n",
       "Asian                            0.038566\n",
       "Middle Eastern or South Asian    0.020974\n",
       "Native American                  0.020298\n",
       "Name: perceivedRace, dtype: float64"
      ]
     },
     "execution_count": 47,
     "metadata": {},
     "output_type": "execute_result"
    }
   ],
   "source": [
    "resultOfStop = 'Custodial Arrest pursuant to outstanding warrant'\n",
    "is_result = result[\"resultOfStop\"] == resultOfStop\n",
    "result_StopIDs = result.loc[is_result, 'StopID'].unique()\n",
    "result_race = race.loc[race[\"StopID\"].isin(result_StopIDs), \"perceivedRace\"]\n",
    "print(\"Total number of result: \", sum(is_result))\n",
    "result_race.value_counts() / len(result_race)"
   ]
  },
  {
   "cell_type": "code",
   "execution_count": 11,
   "metadata": {},
   "outputs": [
    {
     "data": {
      "text/html": [
       "<div>\n",
       "<style scoped>\n",
       "    .dataframe tbody tr th:only-of-type {\n",
       "        vertical-align: middle;\n",
       "    }\n",
       "\n",
       "    .dataframe tbody tr th {\n",
       "        vertical-align: top;\n",
       "    }\n",
       "\n",
       "    .dataframe thead th {\n",
       "        text-align: right;\n",
       "    }\n",
       "</style>\n",
       "<table border=\"1\" class=\"dataframe\">\n",
       "  <thead>\n",
       "    <tr style=\"text-align: right;\">\n",
       "      <th></th>\n",
       "      <th>StopID</th>\n",
       "      <th>PID</th>\n",
       "      <th>actionTakenDuringStop</th>\n",
       "      <th>personSearchConsentGiven</th>\n",
       "      <th>propertySearchConsentGiven</th>\n",
       "    </tr>\n",
       "  </thead>\n",
       "  <tbody>\n",
       "    <tr>\n",
       "      <th>0</th>\n",
       "      <td>5873</td>\n",
       "      <td>1</td>\n",
       "      <td>None</td>\n",
       "      <td>NaN</td>\n",
       "      <td>NaN</td>\n",
       "    </tr>\n",
       "    <tr>\n",
       "      <th>1</th>\n",
       "      <td>5839</td>\n",
       "      <td>1</td>\n",
       "      <td>None</td>\n",
       "      <td>NaN</td>\n",
       "      <td>NaN</td>\n",
       "    </tr>\n",
       "    <tr>\n",
       "      <th>2</th>\n",
       "      <td>5782</td>\n",
       "      <td>1</td>\n",
       "      <td>Curbside detention</td>\n",
       "      <td>NaN</td>\n",
       "      <td>NaN</td>\n",
       "    </tr>\n",
       "    <tr>\n",
       "      <th>3</th>\n",
       "      <td>6014</td>\n",
       "      <td>1</td>\n",
       "      <td>Handcuffed or flex cuffed</td>\n",
       "      <td>NaN</td>\n",
       "      <td>NaN</td>\n",
       "    </tr>\n",
       "    <tr>\n",
       "      <th>4</th>\n",
       "      <td>5874</td>\n",
       "      <td>1</td>\n",
       "      <td>Handcuffed or flex cuffed</td>\n",
       "      <td>NaN</td>\n",
       "      <td>NaN</td>\n",
       "    </tr>\n",
       "  </tbody>\n",
       "</table>\n",
       "</div>"
      ],
      "text/plain": [
       "   StopID  PID      actionTakenDuringStop personSearchConsentGiven  \\\n",
       "0    5873    1                       None                      NaN   \n",
       "1    5839    1                       None                      NaN   \n",
       "2    5782    1         Curbside detention                      NaN   \n",
       "3    6014    1  Handcuffed or flex cuffed                      NaN   \n",
       "4    5874    1  Handcuffed or flex cuffed                      NaN   \n",
       "\n",
       "  propertySearchConsentGiven  \n",
       "0                        NaN  \n",
       "1                        NaN  \n",
       "2                        NaN  \n",
       "3                        NaN  \n",
       "4                        NaN  "
      ]
     },
     "execution_count": 11,
     "metadata": {},
     "output_type": "execute_result"
    }
   ],
   "source": [
    "actions.head()"
   ]
  },
  {
   "cell_type": "code",
   "execution_count": 55,
   "metadata": {},
   "outputs": [
    {
     "data": {
      "text/plain": [
       "None                                                    26662\n",
       "Curbside detention                                       7851\n",
       "Search of person was conducted                           7774\n",
       "Handcuffed or flex cuffed                                4167\n",
       "Patrol car detention                                     3399\n",
       "Asked for consent to search person                       2399\n",
       "Person removed from vehicle by order                     2354\n",
       "Search of property was conducted                         2002\n",
       "Property was seized                                       904\n",
       "Asked for consent to search property                      621\n",
       "Firearm pointed at person                                 448\n",
       "Person removed from vehicle by physical contact           346\n",
       "Vehicle impounded                                         306\n",
       "Physical or Vehicle contact                               239\n",
       "Field sobriety test conducted                             141\n",
       "Person photographed                                       119\n",
       "Baton or other impact weapon used                          28\n",
       "Electronic control device used                             18\n",
       "Canine removed from vehicle or used to search               8\n",
       "Chemical spray used                                         6\n",
       "Admission or written statement obtained from student        4\n",
       "Impact projectile discharged or used                        3\n",
       "Canine bit or held person                                   2\n",
       "Name: actionTakenDuringStop, dtype: int64"
      ]
     },
     "execution_count": 55,
     "metadata": {},
     "output_type": "execute_result"
    }
   ],
   "source": [
    "actions[\"actionTakenDuringStop\"].value_counts()"
   ]
  },
  {
   "cell_type": "code",
   "execution_count": 65,
   "metadata": {},
   "outputs": [
    {
     "name": "stdout",
     "output_type": "stream",
     "text": [
      "Total number of result:  26662\n",
      "Hispanic                         0.339654\n",
      "Black                            0.239486\n",
      "White                            0.224449\n",
      "Asian                            0.076474\n",
      "Middle Eastern or South Asian    0.046519\n",
      "Pacific Islander                 0.040618\n",
      "Native American                  0.032800\n",
      "Name: perceivedRace, dtype: float64\n",
      "Hispanic                         0.365934\n",
      "Black                            0.306981\n",
      "White                            0.233613\n",
      "Asian                            0.039884\n",
      "Pacific Islander                 0.022883\n",
      "Middle Eastern or South Asian    0.016807\n",
      "Native American                  0.013898\n",
      "Name: perceivedRace, dtype: float64\n"
     ]
    }
   ],
   "source": [
    "actionTaken = 'None'\n",
    "is_action_taken = actions[\"actionTakenDuringStop\"] == actionTaken\n",
    "action_StopIDs = actions.loc[is_action_taken, 'StopID'].unique()\n",
    "action_race = race.loc[race[\"StopID\"].isin(action_StopIDs), \"perceivedRace\"]\n",
    "print(\"Total number of result: \", sum(is_action_taken))\n",
    "print(action_race.value_counts() / len(action_race))\n",
    "action_StopIDs = actions.loc[is_action_taken == False, 'StopID'].unique()\n",
    "action_race = race.loc[race[\"StopID\"].isin(action_StopIDs), \"perceivedRace\"]\n",
    "print(action_race .value_counts() / len(action_race))"
   ]
  }
 ],
 "metadata": {
  "kernelspec": {
   "display_name": "Python 3",
   "language": "python",
   "name": "python3"
  },
  "language_info": {
   "codemirror_mode": {
    "name": "ipython",
    "version": 3
   },
   "file_extension": ".py",
   "mimetype": "text/x-python",
   "name": "python",
   "nbconvert_exporter": "python",
   "pygments_lexer": "ipython3",
   "version": "3.8.7"
  }
 },
 "nbformat": 4,
 "nbformat_minor": 4
}
